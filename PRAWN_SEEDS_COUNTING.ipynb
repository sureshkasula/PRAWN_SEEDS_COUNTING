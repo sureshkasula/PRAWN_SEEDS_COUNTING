{
  "cells": [
    {
      "cell_type": "code",
      "source": [
        "from google.colab import drive\n",
        "drive.mount('/content/drive')"
      ],
      "metadata": {
        "colab": {
          "base_uri": "https://localhost:8080/"
        },
        "id": "skUWSicF9GrM",
        "outputId": "003a51eb-7135-47f6-b593-3ad8f1e0e3a6"
      },
      "execution_count": null,
      "outputs": [
        {
          "output_type": "stream",
          "name": "stdout",
          "text": [
            "Mounted at /content/drive\n"
          ]
        }
      ]
    },
    {
      "cell_type": "code",
      "source": [
        "import os\n",
        "os.chdir('/content/drive/MyDrive')"
      ],
      "metadata": {
        "id": "58gpTclA9TlL"
      },
      "execution_count": null,
      "outputs": []
    },
    {
      "cell_type": "code",
      "source": [
        "import cv2\n",
        "image_path = \"123.png\"\n",
        "image = cv2.imread(image_path)"
      ],
      "metadata": {
        "id": "XkrnOVPf9dnU"
      },
      "execution_count": null,
      "outputs": []
    },
    {
      "cell_type": "code",
      "source": [
        "import cv2\n",
        "import numpy as np\n",
        "from google.colab.patches import cv2_imshow\n",
        "\n",
        "# Load the actual image containing shrimp seeds\n",
        "image = cv2.imread(\"123.png\")\n",
        "\n",
        "# Convert the image to grayscale for easier processing\n",
        "gray = cv2.cvtColor(image, cv2.COLOR_BGR2GRAY)\n",
        "\n",
        "# Apply thresholding to isolate dark regions (shrimp seeds)\n",
        "thresh = cv2.threshold(gray, 127, 255, cv2.THRESH_BINARY_INV)[1]\n",
        "\n",
        "# Find contours in the thresholded image\n",
        "cnts = cv2.findContours(thresh, cv2.RETR_EXTERNAL, cv2.CHAIN_APPROX_SIMPLE)[0]\n",
        "\n",
        "# Count the number of contours (shrimp seeds)\n",
        "count = len(cnts)\n",
        "cv2_imshow(image)\n",
        "cv2.waitKey(0)\n",
        "cv2.destroyAllWindows()\n",
        "\n",
        "# Print the number of shrimp seeds detected\n",
        "print(\"Counted\", count)"
      ],
      "outputs": [
        {
          "output_type": "display_data",
          "data": {
            "text/plain": [
              "<PIL.Image.Image image mode=RGB size=54x49>"
            ],
            "image/png": "[encoded data removed]"
          },
          "metadata": {}
        },
        {
          "output_type": "stream",
          "name": "stdout",
          "text": [
            "Counted 2\n"
          ]
        }
      ],
      "execution_count": null,
      "metadata": {
        "colab": {
          "base_uri": "https://localhost:8080/",
          "height": 83
        },
        "id": "XPb9qCQP84-A",
        "outputId": "697ced27-0b5f-4f14-8ae5-7f66edcae887"
      }
    },
    {
      "cell_type": "code",
      "source": [],
      "metadata": {
        "id": "0DZaSRfdLLbC"
      },
      "execution_count": null,
      "outputs": []
    },
    {
      "cell_type": "code",
      "source": [],
      "metadata": {
        "id": "-SCuwZ9SLL8C"
      },
      "execution_count": null,
      "outputs": []
    }
  ],
  "metadata": {
    "colab": {
      "provenance": []
    },
    "kernelspec": {
      "display_name": "Python 3",
      "name": "python3"
    }
  },
  "nbformat": 4,
  "nbformat_minor": 0
}